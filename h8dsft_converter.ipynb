{
  "nbformat": 4,
  "nbformat_minor": 0,
  "metadata": {
    "colab": {
      "name": "h8dsft_converter.ipynb",
      "provenance": []
    },
    "kernelspec": {
      "name": "python3",
      "display_name": "Python 3"
    },
    "language_info": {
      "name": "python"
    }
  },
  "cells": [
    {
      "cell_type": "code",
      "metadata": {
        "colab": {
          "base_uri": "https://localhost:8080/"
        },
        "id": "XpxhDPX2cvhS",
        "outputId": "8d3fdac0-0d46-48bb-89af-71d3b8d83116"
      },
      "source": [
        "suhu = input(\"Masukan suhu? (Misal: 26C, 20F, 21K): \")\n",
        "drjt = int(suhu[:-1])\n",
        "inputan = suhu[-1]\n",
        "\n",
        "if inputan.upper() == \"C\":\n",
        "  hasil1 = float((9 * drjt) / 5 + 32)\n",
        "  hasil2 = float(drjt + 273.15)\n",
        "  hasil3 = float(4/5 * drjt)\n",
        "  jenisX = \"Celcius\"\n",
        "  jenis1 = \"Fahrenheit\"\n",
        "  jenis2 = \"Kelvin\"\n",
        "                \n",
        "elif inputan.upper() == \"F\":\n",
        "  hasil1 = float((drjt - 32) * 5 / 9)\n",
        "  hasil2 = float(((drjt - 32) * 5 / 9) + 273.15)\n",
        "  hasil3 = float(4/9 * (drjt-32))\n",
        "  jenisX = \"Fahrenheit\"\n",
        "  jenis1 = \"Celsius\"\n",
        "  jenis2 = \"Kelvin\"\n",
        "elif inputan.upper() == \"K\":\n",
        "  hasil1 = float(drjt - 273.15)\n",
        "  hasil2 = float(((drjt - 273.15) * 9 / 5)+32)\n",
        "  hasil3 = float(4/5 * (drjt-273))\n",
        "  jenisX = \"Kelvin\"\n",
        "  jenis1 = \"Celcius\"\n",
        "  jenis2 = \"Fahrenheit\"\n",
        "else:\n",
        "   print(\"Inputan tidak sesuai!! Perhatikan Penulisan Input\")\n",
        "\n",
        "print(drjt,jenisX,\"=\",\"{:.1f}\".format(hasil1),jenis1)\n",
        "print(drjt,jenisX,\"=\",\"{:.1f}\".format(hasil2),jenis2)"
      ],
      "execution_count": 10,
      "outputs": [
        {
          "output_type": "stream",
          "text": [
            "Masukan suhu? (Misal: 26C, 20F, 21K): 26c\n",
            "26 Celcius = 78.8 Fahrenheit\n",
            "26 Celcius = 299.1 Kelvin\n"
          ],
          "name": "stdout"
        }
      ]
    }
  ]
}